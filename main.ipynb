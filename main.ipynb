{
  "cells": [
    {
      "cell_type": "code",
      "execution_count": null,
      "metadata": {
        "id": "sbiEuIzkoa70"
      },
      "outputs": [],
      "source": [
        "import numpy as np\n",
        "import pandas as pd\n",
        "from retry import retry\n",
        "from filterpy.kalman import KalmanFilter\n",
        "import numpy as np"
      ]
    },
    {
      "cell_type": "code",
      "execution_count": null,
      "metadata": {
        "id": "tqLHq2NdJOkR"
      },
      "outputs": [],
      "source": [
        "from tqdm import tqdm"
      ]
    },
    {
      "cell_type": "code",
      "execution_count": null,
      "metadata": {
        "id": "etwfLUHXo0jX"
      },
      "outputs": [],
      "source": [
        "from nba_api.stats.endpoints import teamestimatedmetrics, boxscoreadvancedv3"
      ]
    },
    {
      "cell_type": "code",
      "execution_count": null,
      "metadata": {
        "id": "dboiGHQLqfPv"
      },
      "outputs": [],
      "source": [
        "@retry()\n",
        "def get_estimated_metrics(season=\"2023-24\"):\n",
        "    return teamestimatedmetrics.TeamEstimatedMetrics(season=season).get_data_frames()[0]"
      ]
    },
    {
      "cell_type": "code",
      "execution_count": null,
      "metadata": {
        "id": "EDqCw4UGq8bK"
      },
      "outputs": [],
      "source": [
        "def get_team_metrics(team_full_name, data):\n",
        "  ratings = data[data[\"TEAM_NAME\"] == team_full_name][[\"E_OFF_RATING\", \"E_DEF_RATING\"]]\n",
        "\n",
        "  out = {\n",
        "      \"E_OFF_RATING\": ratings[\"E_OFF_RATING\"].values[0],\n",
        "      \"E_DEF_RATING\": ratings[\"E_DEF_RATING\"].values[0]\n",
        "  }\n",
        "\n",
        "  return out"
      ]
    },
    {
      "cell_type": "code",
      "execution_count": null,
      "metadata": {
        "id": "e4RCZjsurpFa"
      },
      "outputs": [],
      "source": [
        "def get_league_avg_ratings(data):\n",
        "  return np.mean(data[\"E_OFF_RATING\"])"
      ]
    },
    {
      "cell_type": "code",
      "execution_count": null,
      "metadata": {
        "id": "AMmB6mJCJ9kU"
      },
      "outputs": [],
      "source": [
        "@retry()\n",
        "def get_boxscore(game_id):\n",
        "  return boxscoreadvancedv3.BoxScoreAdvancedV3(game_id=game_id).get_data_frames()[1]"
      ]
    },
    {
      "cell_type": "code",
      "execution_count": null,
      "metadata": {
        "id": "xdxtQHF1uvTF"
      },
      "outputs": [],
      "source": [
        "def get_matchup_ratings(team_A_name, team_A_abbrev, season=\"2023-24\"):\n",
        "  game_logs = pd.read_csv(\"game_log.csv\")\n",
        "  matchup_logs = game_logs[game_logs[\"TEAM_NAME\"] == team_A_name]\n",
        "  game_ids = matchup_logs[\"GAME_ID\"].tolist()\n",
        "\n",
        "  team_A_off_rtgs = []\n",
        "  team_A_def_rtgs = []\n",
        "  team_B_off_rtgs = []\n",
        "  team_B_def_rtgs = []\n",
        "\n",
        "  for i in tqdm(game_ids):\n",
        "    fixed_id = \"00\" + str(i)\n",
        "    game_data = get_boxscore(fixed_id)\n",
        "    A_game_data = game_data[game_data[\"teamTricode\"] == team_A_abbrev]\n",
        "    B_game_data = game_data[game_data[\"teamTricode\"] != team_A_abbrev]\n",
        "    team_A_off_rtgs.append(float(A_game_data[\"offensiveRating\"].iloc[0]))\n",
        "    team_A_def_rtgs.append(float(A_game_data[\"defensiveRating\"].iloc[0]))\n",
        "    team_B_off_rtgs.append(float(B_game_data[\"offensiveRating\"].iloc[0]))\n",
        "    team_B_def_rtgs.append(float(B_game_data[\"defensiveRating\"].iloc[0]))\n",
        "\n",
        "  out = {\n",
        "      \"TEAM_A_OFF_RATING\": team_A_off_rtgs,\n",
        "      \"TEAM_A_DEF_RATING\": team_A_def_rtgs,\n",
        "      \"TEAM_B_OFF_RATING\": team_B_off_rtgs,\n",
        "      \"TEAM_B_DEF_RATING\": team_B_def_rtgs\n",
        "  }\n",
        "\n",
        "  return pd.DataFrame(out)\n",
        "\n"
      ]
    },
    {
      "cell_type": "code",
      "execution_count": null,
      "metadata": {
        "id": "RmF9zBlD4LED"
      },
      "outputs": [],
      "source": [
        "def linear_prediction(team_A_off_rtg, team_A_def_rtg, team_B_off_rtg, team_B_def_rtg, league_avg):\n",
        "  return ((team_A_off_rtg)*(team_B_def_rtg)) / league_avg, ((team_A_def_rtg)*(team_B_off_rtg)) / league_avg"
      ]
    },
    {
      "cell_type": "code",
      "execution_count": null,
      "metadata": {
        "id": "vZBFBG814gz8"
      },
      "outputs": [],
      "source": [
        "def calculate_updated_off_rating(ORA_minus, ORAG, DRB_minus, R, prior_variance):\n",
        "  KORA = compute_KORA(prior_variance, ORA_minus, DRB_minus, R)\n",
        "  #print(ORA_minus)\n",
        "  #print(type(ORA_minus))\n",
        "  ORA_plus = ORA_minus + KORA * ((ORAG - (ORA_minus * DRB_minus)) / R)\n",
        "  var_ORA_plus = (1 - KORA) * prior_variance\n",
        "  return ORA_plus, var_ORA_plus"
      ]
    },
    {
      "cell_type": "code",
      "execution_count": null,
      "metadata": {
        "id": "-UzwuAuQDY58"
      },
      "outputs": [],
      "source": [
        "def compute_SE2(prior_variance, ORA_minus, DRB_minus, R):\n",
        "  num = ((np.power(prior_variance, 2)) + ((np.power(ORA_minus, 2))*(prior_variance)) + ((np.power(DRB_minus, 2)) * prior_variance))\n",
        "  return num / np.power(R, 2)"
      ]
    },
    {
      "cell_type": "code",
      "execution_count": null,
      "metadata": {
        "id": "Gdhxps-JEd7T"
      },
      "outputs": [],
      "source": [
        "def compute_KORA(prior_variance, ORA_minus, DRB_minus, R):\n",
        "  SE2 = compute_SE2(prior_variance, ORA_minus, DRB_minus, R)\n",
        "  SG2 = 100\n",
        "\n",
        "  return SE2 / (SG2 + SE2)"
      ]
    },
    {
      "cell_type": "code",
      "execution_count": null,
      "metadata": {
        "id": "Ex6SlNkFFJlJ"
      },
      "outputs": [],
      "source": [
        "def compute_kORTG(team_full_name, team_abbrev, season=\"2023-24\", prior_variance=20):\n",
        "  emets = get_estimated_metrics()\n",
        "  t_mets = get_team_metrics(team_full_name, emets)\n",
        "  R = get_league_avg_ratings(emets)\n",
        "\n",
        "  matchups = get_matchup_ratings(team_full_name, team_abbrev, season=season)\n",
        "  ORA_minus = t_mets[\"E_OFF_RATING\"]\n",
        "  DRB_minus = t_mets[\"E_DEF_RATING\"]\n",
        "\n",
        "  for index, row in tqdm(matchups.iterrows()):\n",
        "    ORA_minus, discard = linear_prediction(ORA_minus, DRB_minus, row[\"TEAM_B_OFF_RATING\"], row[\"TEAM_B_DEF_RATING\"], R)\n",
        "    ORA_minus, prior_variance = calculate_updated_off_rating(ORA_minus, row[\"TEAM_A_OFF_RATING\"], DRB_minus, R, prior_variance)\n",
        "\n",
        "  return ORA_minus, prior_variance\n"
      ]
    },
    {
      "cell_type": "code",
      "execution_count": null,
      "metadata": {
        "id": "cLQEgAE-Hmt3"
      },
      "outputs": [],
      "source": [
        "off_rtg, prior_var = compute_kORTG(\"Cleveland Cavaliers\", \"CLE\")"
      ]
    },
    {
      "cell_type": "code",
      "execution_count": null,
      "metadata": {
        "colab": {
          "base_uri": "https://localhost:8080/"
        },
        "id": "8tdsG5msJDNy",
        "outputId": "a60e98f7-5345-4030-cb45-1bd10f1cdee7"
      },
      "outputs": [
        {
          "data": {
            "text/plain": [
              "154.97711090620479"
            ]
          },
          "execution_count": 168,
          "metadata": {},
          "output_type": "execute_result"
        }
      ],
      "source": [
        "off_rtg"
      ]
    },
    {
      "cell_type": "code",
      "execution_count": null,
      "metadata": {
        "colab": {
          "base_uri": "https://localhost:8080/"
        },
        "id": "FUpFe_xXMjHl",
        "outputId": "dd54b3d0-b89c-4e1a-cadd-e14d3b1170e4"
      },
      "outputs": [
        {
          "data": {
            "text/plain": [
              "0.3181081385464605"
            ]
          },
          "execution_count": 169,
          "metadata": {},
          "output_type": "execute_result"
        }
      ],
      "source": [
        "prior_var"
      ]
    },
    {
      "cell_type": "code",
      "execution_count": null,
      "metadata": {
        "id": "FrtYQgIhSxSk"
      },
      "outputs": [],
      "source": [
        "nba_teams = {\n",
        "  \"ATL\": \"Atlanta Hawks\",\n",
        "  \"BOS\": \"Boston Celtics\",\n",
        "  \"BKN\": \"Brooklyn Nets\",\n",
        "  \"CHA\": \"Charlotte Hornets\",\n",
        "  \"CHI\": \"Chicago Bulls\",\n",
        "  \"CLE\": \"Cleveland Cavaliers\",\n",
        "  \"DAL\": \"Dallas Mavericks\",\n",
        "  \"DEN\": \"Denver Nuggets\",\n",
        "  \"DET\": \"Detroit Pistons\",\n",
        "  \"GSW\": \"Golden State Warriors\",\n",
        "  \"HOU\": \"Houston Rockets\",\n",
        "  \"IND\": \"Indiana Pacers\",\n",
        "  \"LAC\": \"Los Angeles Clippers\",\n",
        "  \"LAL\": \"Los Angeles Lakers\",\n",
        "  \"MEM\": \"Memphis Grizzlies\",\n",
        "  \"MIA\": \"Miami Heat\",\n",
        "  \"MIL\": \"Milwaukee Bucks\",\n",
        "  \"MIN\": \"Minnesota Timberwolves\",\n",
        "  \"NOP\": \"New Orleans Pelicans\",\n",
        "  \"NYK\": \"New York Knicks\",\n",
        "  \"OKC\": \"Oklahoma City Thunder\",\n",
        "  \"ORL\": \"Orlando Magic\",\n",
        "  \"PHI\": \"Philadelphia 76ers\",\n",
        "  \"PHX\": \"Phoenix Suns\",\n",
        "  \"POR\": \"Portland Trail Blazers\",\n",
        "  \"SAC\": \"Sacramento Kings\",\n",
        "  \"SAS\": \"San Antonio Spurs\",\n",
        "  \"TOR\": \"Toronto Raptors\",\n",
        "  \"UTA\": \"Utah Jazz\",\n",
        "  \"WAS\": \"Washington Wizards\"\n",
        "}"
      ]
    },
    {
      "cell_type": "code",
      "execution_count": null,
      "metadata": {
        "id": "GjTgfpMZXzgk"
      },
      "outputs": [],
      "source": []
    }
  ],
  "metadata": {
    "colab": {
      "provenance": []
    },
    "kernelspec": {
      "display_name": "Python 3",
      "name": "python3"
    },
    "language_info": {
      "name": "python"
    }
  },
  "nbformat": 4,
  "nbformat_minor": 0
}
